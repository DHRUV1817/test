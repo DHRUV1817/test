{
  "nbformat": 4,
  "nbformat_minor": 0,
  "metadata": {
    "colab": {
      "provenance": []
    },
    "kernelspec": {
      "name": "python3",
      "display_name": "Python 3"
    },
    "language_info": {
      "name": "python"
    }
  },
  "cells": [
    {
      "cell_type": "code",
      "execution_count": null,
      "metadata": {
        "colab": {
          "base_uri": "https://localhost:8080/"
        },
        "id": "9NiN4xnDyxlm",
        "outputId": "bbbab0ff-0a04-4ffb-8cf3-30f1db8bd9c1"
      },
      "outputs": [
        {
          "output_type": "stream",
          "name": "stdout",
          "text": [
            "   Id  SepalLengthCm  SepalWidthCm  PetalLengthCm  PetalWidthCm      Species  \\\n",
            "0   1            5.1           3.5            1.4           0.2  Iris-setosa   \n",
            "1   2            4.9           3.0            1.4           0.2  Iris-setosa   \n",
            "2   3            4.7           3.2            1.3           0.2  Iris-setosa   \n",
            "3   4            4.6           3.1            1.5           0.2  Iris-setosa   \n",
            "4   5            5.0           3.6            1.4           0.2  Iris-setosa   \n",
            "\n",
            "  SepalLengthCm_width SepalLengthCm_freq SepalWidthCm_width SepalWidthCm_freq  \\\n",
            "0               Small              Small             Medium             Large   \n",
            "1               Small              Small             Medium            Medium   \n",
            "2               Small              Small             Medium            Medium   \n",
            "3               Small              Small             Medium            Medium   \n",
            "4               Small              Small             Medium             Large   \n",
            "\n",
            "  PetalLengthCm_width PetalLengthCm_freq PetalWidthCm_width PetalWidthCm_freq  \n",
            "0               Small              Small              Small             Small  \n",
            "1               Small              Small              Small             Small  \n",
            "2               Small              Small              Small             Small  \n",
            "3               Small              Small              Small             Small  \n",
            "4               Small              Small              Small             Small  \n"
          ]
        }
      ],
      "source": [
        "import pandas as pd\n",
        "\n",
        "# Load dataset\n",
        "df = pd.read_csv(\"Iris.csv\")\n",
        "\n",
        "# Setup binning parameters\n",
        "bins = 3\n",
        "labels = [\"Small\", \"Medium\", \"Large\"]\n",
        "columns_to_bin = [\"SepalLengthCm\", \"SepalWidthCm\", \"PetalLengthCm\", \"PetalWidthCm\"]\n",
        "\n",
        "# Apply both binning types to each column\n",
        "for column in columns_to_bin:\n",
        "    # Equal-width binning\n",
        "    df[f\"{column}_width\"] = pd.cut(df[column], bins=bins, labels=labels)\n",
        "\n",
        "    # Equal-frequency binning\n",
        "    df[f\"{column}_freq\"] = pd.qcut(df[column], q=bins, labels=labels)\n",
        "\n",
        "# Display results for first few rows\n",
        "print(df.head())"
      ]
    },
    {
      "cell_type": "code",
      "source": [],
      "metadata": {
        "id": "LxySuW7J0khz"
      },
      "execution_count": null,
      "outputs": []
    },
    {
      "cell_type": "code",
      "source": [],
      "metadata": {
        "id": "Jwh6Prab1oGD"
      },
      "execution_count": null,
      "outputs": []
    }
  ]
}