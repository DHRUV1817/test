{
  "nbformat": 4,
  "nbformat_minor": 0,
  "metadata": {
    "colab": {
      "provenance": []
    },
    "kernelspec": {
      "name": "python3",
      "display_name": "Python 3"
    },
    "language_info": {
      "name": "python"
    }
  },
  "cells": [
    {
      "cell_type": "code",
      "execution_count": null,
      "metadata": {
        "colab": {
          "base_uri": "https://localhost:8080/"
        },
        "id": "1nurgqpX6dBw",
        "outputId": "e8d41d55-7241-4981-e3e2-fe40b301498d"
      },
      "outputs": [
        {
          "output_type": "stream",
          "name": "stdout",
          "text": [
            "    support itemsets\n",
            "0  0.777778      (1)\n",
            "1  0.666667      (0)\n",
            "2  0.666667      (2)\n",
            "3  0.444444   (0, 1)\n",
            "4  0.444444   (0, 2) \n",
            "   antecedents consequents  antecedent support  consequent support   support  \\\n",
            "0         (0)         (1)            0.666667            0.777778  0.444444   \n",
            "1         (1)         (0)            0.777778            0.666667  0.444444   \n",
            "2         (0)         (2)            0.666667            0.666667  0.444444   \n",
            "3         (2)         (0)            0.666667            0.666667  0.444444   \n",
            "4         (1)         (2)            0.777778            0.666667  0.444444   \n",
            "\n",
            "   confidence      lift  representativity  leverage  conviction  \\\n",
            "0    0.666667  0.857143               1.0 -0.074074    0.666667   \n",
            "1    0.571429  0.857143               1.0 -0.074074    0.777778   \n",
            "2    0.666667  1.000000               1.0  0.000000    1.000000   \n",
            "3    0.666667  1.000000               1.0  0.000000    1.000000   \n",
            "4    0.571429  0.857143               1.0 -0.074074    0.777778   \n",
            "\n",
            "   zhangs_metric   jaccard  certainty  kulczynski  \n",
            "0      -0.333333  0.444444  -0.500000    0.619048  \n",
            "1      -0.428571  0.444444  -0.285714    0.619048  \n",
            "2       0.000000  0.500000   0.000000    0.666667  \n",
            "3       0.000000  0.500000   0.000000    0.666667  \n",
            "4      -0.428571  0.444444  -0.285714    0.619048  \n"
          ]
        }
      ],
      "source": [
        "import pandas as pd\n",
        "from mlxtend.preprocessing import TransactionEncoder\n",
        "from mlxtend.frequent_patterns import fpgrowth, association_rules\n",
        "\n",
        "# Simple transaction data\n",
        "txns = [['A','B','E'], ['B','D'], ['B','C'], ['A','B','D'],\n",
        "       ['A','C'], ['B','C'], ['A','C'], ['A','B','C','E'], ['A','B','C']]\n",
        "\n",
        "# One-line encoding (remember: transform transactions to binary matrix)\n",
        "df = pd.DataFrame(TransactionEncoder().fit_transform(txns))\n",
        "\n",
        "# Two key steps (remember: patterns then rules)\n",
        "fp = fpgrowth(df, min_support=0.3, use_colnames=True)\n",
        "rules = association_rules(fp, metric=\"confidence\", min_threshold=0.5)\n",
        "\n",
        "# Print results\n",
        "print(fp.head(), \"\\n\", rules.head())"
      ]
    },
    {
      "cell_type": "code",
      "source": [],
      "metadata": {
        "id": "2Y2vbgmu6eDi"
      },
      "execution_count": null,
      "outputs": []
    }
  ]
}